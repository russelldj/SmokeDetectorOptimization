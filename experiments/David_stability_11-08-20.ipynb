{
 "cells": [
  {
   "cell_type": "markdown",
   "metadata": {},
   "source": [
    "Import all the code. If you get import errors, review the installation proceedure. Make sure you are using the correct kernel. You will need to explicitly set up a kernel for the environment you've created. "
   ]
  },
  {
   "cell_type": "code",
   "execution_count": 1,
   "metadata": {},
   "outputs": [],
   "source": [
    "import sys\n",
    "\n",
    "import numpy as np\n",
    "\n",
    "from smokedetectoroptimization.constants import (ALARM_THRESHOLD, FALSE_ALARM_THRESHOLD, \n",
    "                                                 SMOOTH_PLOTS, SINGLE_OBJECTIVE_FUNCTIONS_TTA,\n",
    "                                                 SINGLE_OBJECTIVE_FUNCTIONS_MC)\n",
    "from smokedetectoroptimization.optimizer import (optimize, evaluate_optimization,\n",
    "                                                 optimization_logger, evaluate_locations)\n",
    "from smokedetectoroptimization.smoke_source import SmokeSource, smoke_logger\n",
    "from smokedetectoroptimization.visualization import show_stability"
   ]
  },
  {
   "cell_type": "code",
   "execution_count": 2,
   "metadata": {},
   "outputs": [],
   "source": [
    "# This is a hack, but it lets us import something from the folder above.\n",
    "# I will address it at some point soon.\n",
    "sys.path.append(\"..\")\n",
    "from constants import (SMOKE_FOLDERS, SMOKE_FOLDERS_LONG,\n",
    "                       FALSE_ALARM_FOLDERS, FALSE_ALARM_FOLDERS_LONG,\n",
    "                       NASA_DETECTORS, SOURCE_LOCATIONS)"
   ]
  },
  {
   "cell_type": "markdown",
   "metadata": {},
   "source": [
    "The goal is to set the level of detail we get printed out. The smoke logger appears to be broken since it should display which directory it's loading from."
   ]
  },
  {
   "cell_type": "code",
   "execution_count": 3,
   "metadata": {},
   "outputs": [],
   "source": [
    "import logging\n",
    "optimization_logger.setLevel(logging.ERROR)\n",
    "smoke_logger.setLevel(logging.DEBUG)"
   ]
  },
  {
   "cell_type": "markdown",
   "metadata": {},
   "source": [
    "Parameterization can be \"xy\", \"yz\", \"xz\", \"xyz\", or \"phi_theta\"  \n",
    "Function type can be \"multiobjective_competing\", \"multiobjective_counting\", or \"worst_case\", which is the one we are used to. \"fastest\" and \"second are also supported, but I would not recommend using them.  \n",
    "Interplolation method can be \"nearest\", which takes the nearest value, or \"linear\" or \"cubic\" The later two seem to take much longer.  "
   ]
  },
  {
   "cell_type": "code",
   "execution_count": 4,
   "metadata": {},
   "outputs": [],
   "source": [
    "PARAMETERIZATION = \"phi_theta\"\n",
    "FUNCTION_TYPE = \"worst_case_TTA\"\n",
    "INTERPOLATION_METHOD = \"nearest\"\n",
    "NUM_DETECTORS = 2\n",
    "VIS = True\n",
    "RUN_EXPERIMENTS = False\n",
    "LOAD_DATA = False\n",
    "\n",
    "if LOAD_DATA:\n",
    "    sources = []\n",
    "    # This notation just takes the first two folders\n",
    "    # This makes it much faster to evaluate the optimization\n",
    "    for data_dir in SMOKE_FOLDERS_LONG:\n",
    "        # create a smoke source and then get it's time to alarm with a given parameterization\n",
    "        print(f\"Loading {data_dir}\")\n",
    "        sources.append(SmokeSource(data_dir,\n",
    "                                   parameterization=PARAMETERIZATION,\n",
    "                                   vis=VIS,\n",
    "                                   alarm_threshold=ALARM_THRESHOLD))"
   ]
  },
  {
   "cell_type": "code",
   "execution_count": 5,
   "metadata": {},
   "outputs": [],
   "source": [
    "if RUN_EXPERIMENTS:\n",
    "    res = evaluate_optimization(sources,\n",
    "                                    num_iterations=10,\n",
    "                                    visualize_summary=True)\n",
    "    np.save(\"keys.npy\", list(res.keys()))\n",
    "    for k, v in res.items():\n",
    "        np.save(k + \".npy\", v)\n"
   ]
  },
  {
   "cell_type": "code",
   "execution_count": 6,
   "metadata": {},
   "outputs": [
    {
     "name": "stdout",
     "output_type": "stream",
     "text": [
      "{'iter_vals': array([list([41.0, 41.0, 0.0, 0.0, 0.0, 0.0, 0.0, 0.0, 0.0, 0.0, 0.0, 0.0, 0.0, 0.0, 0.0, 0.0, 0.0, 0.0, 0.0, 0.0, 0.0, 0.0, 0.0, 0.0, 0.0, 0.0, 0.0, 0.0, 0.0, 0.0, 0.0, 0.0, 0.0, 0.0, 0.0, 0.0, 0.0, 0.0, 0.0]),\n",
      "       list([67.0, 67.0, 67.0, 60.0, 51.0, 51.0, 49.0, 45.0, 45.0, 40.0, 32.0, 32.0, 32.0, 32.0, 32.0, 0.0, 0.0, 0.0, 0.0, 0.0, 0.0, 0.0, 0.0, 0.0, 0.0, 0.0, 0.0, 0.0, 0.0, 0.0, 0.0, 0.0, 0.0]),\n",
      "       list([46.0, 46.0, 0.0, 0.0, 0.0, 0.0, 0.0, 0.0, 0.0, 0.0, 0.0, 0.0, 0.0, 0.0, 0.0, 0.0, 0.0, 0.0, 0.0, 0.0, 0.0, 0.0, 0.0, 0.0, 0.0, 0.0, 0.0, 0.0, 0.0, 0.0, 0.0, 0.0, 0.0, 0.0, 0.0, 0.0]),\n",
      "       list([44.0, 44.0, 37.0, 0.0, 0.0, 0.0, 0.0, 0.0, 0.0, 0.0, 0.0, 0.0, 0.0, 0.0, 0.0, 0.0, 0.0, 0.0, 0.0, 0.0, 0.0, 0.0, 0.0, 0.0]),\n",
      "       list([56.0, 56.0, 50.0, 50.0, 50.0, 45.0, 45.0, 45.0, 45.0, 45.0, 45.0, 45.0, 45.0, 45.0, 45.0, 45.0, 45.0, 45.0, 45.0, 45.0, 45.0, 45.0, 45.0]),\n",
      "       list([73.0, 51.0, 51.0, 51.0, 44.0, 44.0, 44.0, 40.0, 0.0, 0.0, 0.0, 0.0, 0.0, 0.0, 0.0, 0.0, 0.0, 0.0, 0.0, 0.0, 0.0, 0.0, 0.0, 0.0, 0.0]),\n",
      "       list([40.0, 40.0, 40.0, 40.0, 0.0, 0.0, 0.0, 0.0, 0.0, 0.0, 0.0, 0.0, 0.0, 0.0, 0.0, 0.0, 0.0, 0.0, 0.0, 0.0, 0.0, 0.0, 0.0, 0.0, 0.0, 0.0, 0.0, 0.0, 0.0, 0.0, 0.0, 0.0, 0.0, 0.0]),\n",
      "       list([86.0, 46.0, 46.0, 46.0, 44.0, 44.0, 44.0, 44.0, 44.0, 41.0, 5.0, 5.0, 5.0, 5.0, 0.0, 0.0, 0.0, 0.0, 0.0, 0.0, 0.0, 0.0, 0.0, 0.0, 0.0, 0.0, 0.0, 0.0, 0.0, 0.0, 0.0, 0.0, 0.0, 0.0, 0.0, 0.0, 0.0, 0.0, 0.0]),\n",
      "       list([56.0, 44.0, 44.0, 40.0, 40.0, 0.0, 0.0, 0.0, 0.0, 0.0, 0.0, 0.0, 0.0, 0.0, 0.0, 0.0, 0.0, 0.0, 0.0, 0.0, 0.0, 0.0, 0.0, 0.0, 0.0, 0.0, 0.0, 0.0, 0.0, 0.0, 0.0, 0.0, 0.0, 0.0]),\n",
      "       list([74.0, 74.0, 46.0, 46.0, 0.0, 0.0, 0.0, 0.0, 0.0, 0.0, 0.0, 0.0, 0.0, 0.0, 0.0, 0.0, 0.0, 0.0, 0.0, 0.0, 0.0, 0.0, 0.0, 0.0, 0.0, 0.0, 0.0, 0.0, 0.0, 0.0, 0.0, 0.0, 0.0, 0.0, 0.0, 0.0, 0.0, 0.0, 0.0, 0.0, 0.0])],\n",
      "      dtype=object), 'final_vals': array([41., 67., 46., 44., 56., 73., 40., 86., 56., 74.]), 'final_locs': array([[ 1.13492606, -1.93971248],\n",
      "       [ 1.1176565 , -1.93092597],\n",
      "       [ 1.37493412, -1.97904656],\n",
      "       [ 1.19235963, -1.97228882],\n",
      "       [ 0.32423606,  2.55095202],\n",
      "       [ 1.09817298, -1.95023835],\n",
      "       [ 1.02026736, -1.93795694],\n",
      "       [ 1.43619817, -1.93818297],\n",
      "       [ 0.86797652, -2.06258504],\n",
      "       [ 1.21090063, -1.97846043]]), 'num_iters': array([39, 33, 36, 24, 23, 25, 34, 39, 34, 41]), 'final_locs_3D': array([[[ 2.77839994, -2.57680011, -0.95759094]],\n",
      "\n",
      "       [[ 2.77839994, -2.57680011, -0.95759094]],\n",
      "\n",
      "       [[ 2.77839994, -2.57680011, -1.26304543]],\n",
      "\n",
      "       [[ 2.77839994, -2.57680011, -1.05940914]],\n",
      "\n",
      "       [[ 2.85145473, -1.2333827 ,  0.        ]],\n",
      "\n",
      "       [[ 2.77839994, -2.57680011, -0.95759094]],\n",
      "\n",
      "       [[ 2.77839994, -2.57680011, -0.75395453]],\n",
      "\n",
      "       [[ 2.77839994, -2.57680011, -1.36486363]],\n",
      "\n",
      "       [[ 2.18420005, -2.57680011, -0.44850001]],\n",
      "\n",
      "       [[ 2.77839994, -2.57680011, -1.05940914]]])}\n"
     ]
    }
   ],
   "source": [
    "keys = np.load(\"keys.npy\")\n",
    "res = {}\n",
    "for key in keys:\n",
    "    res[key] = np.load(key + \".npy\", allow_pickle=True)\n",
    "print(res)"
   ]
  },
  {
   "cell_type": "code",
   "execution_count": 7,
   "metadata": {},
   "outputs": [
    {
     "data": {
      "image/png": "[encoded data removed]",
      "text/plain": [
       "<Figure size 432x288 with 2 Axes>"
      ]
     },
     "metadata": {
      "needs_background": "light"
     },
     "output_type": "display_data"
    }
   ],
   "source": [
    "show_stability(res[\"final_locs_3D\"])"
   ]
  }
 ],
 "metadata": {
  "kernelspec": {
   "display_name": "smoke",
   "language": "python",
   "name": "smoke"
  },
  "language_info": {
   "codemirror_mode": {
    "name": "ipython",
    "version": 3
   },
   "file_extension": ".py",
   "mimetype": "text/x-python",
   "name": "python",
   "nbconvert_exporter": "python",
   "pygments_lexer": "ipython3",
   "version": "3.7.7"
  }
 },
 "nbformat": 4,
 "nbformat_minor": 2
}
