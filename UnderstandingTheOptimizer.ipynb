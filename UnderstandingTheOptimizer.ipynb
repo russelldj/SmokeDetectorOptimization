{
 "cells": [
  {
   "cell_type": "code",
   "execution_count": null,
   "metadata": {},
   "outputs": [
    {
     "data": {
      "application/vnd.jupyter.widget-view+json": {
       "model_id": "d54de5d8378a47dcbae5541c94956099",
       "version_major": 2,
       "version_minor": 0
      },
      "text/plain": [
       "HBox(children=(IntProgress(value=0, max=3), HTML(value='')))"
      ]
     },
     "metadata": {},
     "output_type": "display_data"
    },
    {
     "name": "stderr",
     "output_type": "stream",
     "text": [
      "/home/david/dev/SmokeDetectorOptimization/SDOptimizer.py:588: FutureWarning: Bounds are computed from the data and will soon be removed as a positional argument\n",
      "  FutureWarning)\n"
     ]
    }
   ],
   "source": [
    "import numpy as np\n",
    "import matplotlib\n",
    "%matplotlib inline\n",
    "import matplotlib.pyplot as plt\n",
    "\n",
    "\n",
    "from SDOptimizer import SDOptimizer\n",
    "plt.rcParams[\"figure.figsize\"] = (10, 7)\n",
    "\n",
    "DATA_FILE = \"exportUSLab.csv\"  # Points to the data Katie gave us\n",
    "SDO = SDOptimizer()\n",
    "SDO.load_data(DATA_FILE)\n",
    "\n",
    "INFEASIBLE = [(3, 1, 4, 2)] # This represents an array we can't put a detector\n",
    "source1 = SDO.get_time_to_alarm(False, False, infeasible_locations=INFEASIBLE) # the default value of flip is false, so this is simply included for clarity\n",
    "source2 = SDO.get_time_to_alarm(True, False, infeasible_locations=INFEASIBLE) # flip about the x axis\n",
    "source3 = SDO.get_time_to_alarm(False, True, infeasible_locations=INFEASIBLE) # flip about the x axis\n",
    "\n",
    "smoke_sources = [source1, source2, source3]\n",
    "bounds =  [0, 8.1, 0, 3.1]\n",
    "initialization = [1.70799994, 1.89999998, 6.83200002, 1.89999998, 1.9, 1.4]\n",
    "\n",
    "vals, locs, iterations = SDO.evaluate_optimization(smoke_sources, 4, genetic=True, num_iterations=3)"
   ]
  },
  {
   "cell_type": "code",
   "execution_count": null,
   "metadata": {},
   "outputs": [],
   "source": [
    "np.save(\"vals.npy\", np.asarray(vals))\n",
    "np.save(\"locs.npy\", np.asarray(locs))\n",
    "np.save(\"iterations.npy\", np.asarray(iterations))"
   ]
  },
  {
   "cell_type": "code",
   "execution_count": null,
   "metadata": {},
   "outputs": [],
   "source": [
    "import numpy as np\n",
    "import matplotlib\n",
    "%matplotlib inline\n",
    "import matplotlib.pyplot as plt\n",
    "from sklearn.manifold import TSNE\n",
    "from matplotlib import cm\n",
    "import seaborn as sns\n",
    "\n",
    "from SDOptimizer import SDOptimizer\n",
    "plt.rcParams[\"figure.figsize\"] = (10, 7)\n",
    "\n",
    "SDO = SDOptimizer()\n",
    "\n",
    "vals = np.load(\"vals.npy\")\n",
    "iterations = np.load('iterations.npy')\n",
    "locs = np.load(\"locs.npy\")\n",
    "SDO.show_optimization_statistics(vals, iterations, locs)\n",
    "\n",
    "\n",
    "num_points = len(locs)\n",
    "colormapper = cm.get_cmap('gist_rainbow', num_points)\n",
    "#clrs = sns.color_palette('hls', n_colors=num_points)  # a list of RGB tuples\n",
    "\n",
    "for i, loc in enumerate(locs):\n",
    "    plt.scatter(loc[::2], loc[1::2], c=[colormapper(i/float(num_points))])\n",
    "\n",
    "plt.title(\"The set of points with a color for each one\")\n",
    "plt.ylim(0,3.1)\n",
    "plt.xlim(0,8)\n",
    "plt.show()\n",
    "plt.cla()\n",
    "\n",
    "for i, loc in enumerate(locs):\n",
    "    color = np.ones_like(loc[::2]) * vals[i]\n",
    "    plt.scatter(loc[::2], loc[1::2],c=color)\n",
    "\n",
    "plt.title(\"The set of points versus the color\")\n",
    "plt.colorbar()\n",
    "plt.ylim(0,3.1)\n",
    "plt.xlim(0,8)\n",
    "plt.show()\n",
    "plt.cla()\n",
    "    \n",
    "embedded_locs = TSNE(n_components=2).fit_transform(locs)\n",
    "plt.scatter(embedded_locs[:,0], embedded_locs[:,1], c=vals)\n",
    "plt.colorbar()\n",
    "plt.title(\"TSNE embedded locations\")\n",
    "plt.show()"
   ]
  },
  {
   "cell_type": "code",
   "execution_count": null,
   "metadata": {},
   "outputs": [],
   "source": []
  },
  {
   "cell_type": "code",
   "execution_count": null,
   "metadata": {},
   "outputs": [],
   "source": []
  }
 ],
 "metadata": {
  "kernelspec": {
   "display_name": "Python 3",
   "language": "python",
   "name": "python3"
  },
  "language_info": {
   "codemirror_mode": {
    "name": "ipython",
    "version": 3
   },
   "file_extension": ".py",
   "mimetype": "text/x-python",
   "name": "python",
   "nbconvert_exporter": "python",
   "pygments_lexer": "ipython3",
   "version": "3.7.3"
  }
 },
 "nbformat": 4,
 "nbformat_minor": 2
}
